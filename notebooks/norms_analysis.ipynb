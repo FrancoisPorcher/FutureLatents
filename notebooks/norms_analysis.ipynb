{
 "cells": [
  {
   "cell_type": "code",
   "execution_count": null,
   "metadata": {},
   "outputs": [],
   "source": [
    "import torch\n",
    "import matplotlib.pyplot as plt\n",
    "\n",
    "# Update the path below to point to the saved tensor\n",
    "tensor_path = '../experiment/EXPERIMENT_NAME/dump/norms_step_1.pt'\n",
    "norms = torch.load(tensor_path)\n",
    "plt.hist(norms.flatten().numpy(), bins=30)\n",
    "plt.title('Token L2 Norms Distribution')\n",
    "plt.show()\n"
   ]
  }
 ],
 "metadata": {
  "kernelspec": {
   "display_name": "Python 3",
   "language": "python",
   "name": "python3"
  },
  "language_info": {
   "name": "python",
   "version": "3.x"
  }
 },
 "nbformat": 4,
 "nbformat_minor": 5
}
